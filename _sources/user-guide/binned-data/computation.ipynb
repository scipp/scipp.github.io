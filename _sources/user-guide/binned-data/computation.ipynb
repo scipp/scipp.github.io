{
 "cells": [
  {
   "cell_type": "markdown",
   "metadata": {},
   "source": [
    "# Computation with Binned Data\n",
    "\n",
    "As described in [Binned Data](binned-data.ipynb) Scipp can handle certain types of sparse or scattered data such as *event data*, i.e., data that cannot directly be represented as a multi-dimensional array.\n",
    "This could, e.g., be used to store data from an array of sensors/detectors that are read out independently, with potentially widely varying frequency.\n",
    "\n",
    "Scipp supports two classes of operations with binned data.\n",
    "\n",
    "1. [Bin-centric arithmetic](#Bin-centric-arithmetic) treats every bin as an element to, e.g., apply a different scale factor to every bin.\n",
    "2. [Event-centric arithmetic](#Event-centric-arithmetic) considers the individual events within bins.\n",
    "   This allows for operation without the precision loss that would ensue from simply histogramming data."
   ]
  },
  {
   "cell_type": "markdown",
   "metadata": {},
   "source": [
    "## Overview and Quick Reference\n",
    "\n",
    "Before going into a detailed explanation below we provide a quick reference:\n",
    "\n",
    "- Unary operations such as `sin`, `cos`, or `sqrt` work as normal.\n",
    "- Comparison operations such as `less` (`<`) are not supported.\n",
    "- Binary operations such as `+` work in principle, but usually not if both operands represent event data.\n",
    "  In that case, see table below.\n",
    "\n",
    "Given two data arrays `a` and `b`, equivalent operations are:\n",
    "\n",
    "Dense data operation | Binned data equivalent            | Comment\n",
    ":--- |:----------------------------------|:---\n",
    "`a + b` | `a.bins.concatenate(b)`           | if both `a` and `b` are event data\n",
    "`a - b` | `a.bins.concatenate(-b)`               | if both `a` and `b` are event data\n",
    "`a += b` | `a.bins.concatenate(b, out=a)`         | if both `a` and `b` are event data\n",
    "`a -= b` | `a.bins.concatenate(-b, out=a)`        | if both `a` and `b` are event data\n",
    "`sc.sum(a, 'dim')` | `a.bins.concat('dim')`            |\n",
    "`sc.mean(a, 'dim')` | not available (but see comment below) | `min`, `max`, and other similar reductions are also not available\n",
    "`sc.rebin(a, {dim:edges})` | `sc.bin(a, {dim:edges})`        |\n",
    "`a.groupby('param').sum('dim')` | `a.group('param')` |\n",
    "`a.groupby('param', bins=edges).sum('dim')` | `a.bin(param=edges)` |\n",
    "\n",
    "While above we list `mean`, `min`, `max`, and others as \"not available\", note that this refers to an equivalent function *preserving* data as binned data.\n",
    "`sum`, `mean`, `min`, and `max` all *do* work on binned data, but return dense data."
   ]
  },
  {
   "cell_type": "markdown",
   "metadata": {},
   "source": [
    "## Concepts\n",
    "\n",
    "Before assigning events to bins, we can initialize them as a single long list or table.\n",
    "In the simplest case this table has just a single column, i.e., it is a Scipp variable:"
   ]
  },
  {
   "cell_type": "code",
   "execution_count": null,
   "metadata": {},
   "outputs": [],
   "source": [
    "import numpy as np\n",
    "import scipp as sc\n",
    "\n",
    "table = sc.array(\n",
    "    dims=['event'], values=[0, 1, 3, 1, 1, 1, 42, 1, 1, 1, 1, 1], dtype='float64'\n",
    ")\n",
    "sc.table(table)"
   ]
  },
  {
   "cell_type": "markdown",
   "metadata": {},
   "source": [
    "The events in the table can then be mapped into bins:"
   ]
  },
  {
   "cell_type": "code",
   "execution_count": null,
   "metadata": {},
   "outputs": [],
   "source": [
    "begin = sc.array(dims=['x'], values=[0, 6, 6, 8], unit=None)\n",
    "end = sc.array(dims=['x'], values=[6, 6, 8, 12], unit=None)\n",
    "var = sc.bins(begin=begin, end=end, dim='event', data=table)\n",
    "sc.show(var)\n",
    "var"
   ]
  },
  {
   "cell_type": "markdown",
   "metadata": {},
   "source": [
    "Each element of the resulting \"bin variable\" references a section of the underlying table:"
   ]
  },
  {
   "cell_type": "code",
   "execution_count": null,
   "metadata": {},
   "outputs": [],
   "source": [
    "sc.table(var['x', 0].value)"
   ]
  },
  {
   "cell_type": "code",
   "execution_count": null,
   "metadata": {},
   "outputs": [],
   "source": [
    "sc.table(var['x', 1].value)"
   ]
  },
  {
   "cell_type": "code",
   "execution_count": null,
   "metadata": {},
   "outputs": [],
   "source": [
    "sc.table(var['x', 2].value)"
   ]
  },
  {
   "cell_type": "markdown",
   "metadata": {},
   "source": [
    "## Bin-centric arithmetic\n",
    "\n",
    "Elements of binned variables are views of slices of a variable or data array.\n",
    "An operation such as multiplication of a binned variable with a dense array thus computes the product of the bin (a variable view or data array view) with a scalar element of the dense array.\n",
    "In other words, operations between variables or data arrays broadcast dense data to the lists held in the bins:"
   ]
  },
  {
   "cell_type": "code",
   "execution_count": null,
   "metadata": {},
   "outputs": [],
   "source": [
    "scale = sc.arange('x', 2.0, 6)\n",
    "var *= scale\n",
    "var['x', 0].values"
   ]
  },
  {
   "cell_type": "code",
   "execution_count": null,
   "metadata": {},
   "outputs": [],
   "source": [
    "var['x', 1].values"
   ]
  },
  {
   "cell_type": "code",
   "execution_count": null,
   "metadata": {},
   "outputs": [],
   "source": [
    "var['x', 2].values"
   ]
  },
  {
   "cell_type": "markdown",
   "metadata": {},
   "source": [
    "In practice scattered data requires more than one \"column\" of information.\n",
    "Typically we need at least one coordinate such as an event time stamp in addition to weights.\n",
    "If each scattered data point (event) corresponds to, e.g., a single detected neutron then the weight is 1.\n",
    "As above, we start by creating a single table containing *all* events:"
   ]
  },
  {
   "cell_type": "code",
   "execution_count": null,
   "metadata": {},
   "outputs": [],
   "source": [
    "times = sc.array(\n",
    "    dims=['event'],\n",
    "    unit='us',  # micro second\n",
    "    values=[0, 1, 3, 1, 1, 1, 4, 1, 1, 2, 1, 1],\n",
    "    dtype='float64',\n",
    ")\n",
    "weights = sc.ones(dims=['event'], unit='counts', shape=[12], with_variances=True)\n",
    "\n",
    "table = sc.DataArray(data=weights, coords={'time': times})\n",
    "sc.table(table)\n",
    "table"
   ]
  },
  {
   "cell_type": "markdown",
   "metadata": {},
   "source": [
    "This table is then mapped into bins.\n",
    "The resulting \"bin variable\" can, e.g., be used as the data in a data array, and can be combined with coordinates as usual:"
   ]
  },
  {
   "cell_type": "code",
   "execution_count": null,
   "metadata": {},
   "outputs": [],
   "source": [
    "var = sc.bins(begin=begin, end=end, dim='event', data=table)\n",
    "a = sc.DataArray(data=var, coords={'x': sc.Variable(dims=['x'], values=np.arange(4.0))})\n",
    "a"
   ]
  },
  {
   "cell_type": "markdown",
   "metadata": {},
   "source": [
    "<div class=\"alert alert-info\">\n",
    "\n",
    "In practice we rarely use `sc.bins` (which requires `begin` and `end` indices for each bin and an appropriately sorted table) to create binned data.\n",
    "For creating binned *variables* `sc.bins` is the only option, but for binning *data arrays* we typically bin based on the meta data of the individual data points, i.e., the coord columns in the table of scattered data.\n",
    "Use [scipp.bin](../../generated/functions/scipp.bin.rst) (not `sc.bins`) and/or [scipp.group](../../generated/functions/scipp.group.rst)  as described in [Binned Data](binned-data.ipynb).\n",
    "    \n",
    "</div>"
   ]
  },
  {
   "cell_type": "markdown",
   "metadata": {},
   "source": [
    "In the graphical representation of the data array we can see the dense coordinate (green), and the bins (yellow):"
   ]
  },
  {
   "cell_type": "code",
   "execution_count": null,
   "metadata": {},
   "outputs": [],
   "source": [
    "sc.show(a)"
   ]
  },
  {
   "cell_type": "markdown",
   "metadata": {},
   "source": [
    "As before, each bin references a section of the underlying table:"
   ]
  },
  {
   "cell_type": "code",
   "execution_count": null,
   "metadata": {},
   "outputs": [],
   "source": [
    "sc.table(a['x', 0].value)"
   ]
  },
  {
   "cell_type": "code",
   "execution_count": null,
   "metadata": {},
   "outputs": [],
   "source": [
    "sc.table(a['x', 1].value)"
   ]
  },
  {
   "cell_type": "code",
   "execution_count": null,
   "metadata": {},
   "outputs": [],
   "source": [
    "sc.table(a['x', 2].value)"
   ]
  },
  {
   "cell_type": "markdown",
   "metadata": {},
   "source": [
    "## Event-centric arithmetic\n",
    "\n",
    "Complementary to the [bin-centric arithmetic](#Bin-centric-arithmetic) operations, which treat every bin as an element, we may need more fine-grained operations that treat events within bins individually.\n",
    "Scipp provides a number of such operations, defined in a manner to produce a result equivalent to that of a corresponding operation for histogrammed data, but preserving events and thus keeping the options of, e.g., binning to a higher resolution or filtering by meta data later.\n",
    "For example, addition of histogrammed data would correspond to concatenating event lists of individual bins.\n",
    "\n",
    "The following operations are supported:\n",
    "\n",
    "- \"Addition\" of data arrays containing event data in bins.\n",
    "  This is achieved by concatenating the underlying event lists.\n",
    "- \"Subtraction\" of data arrays containing event data in bins.\n",
    "  This is performed by concatenating with a negative weight for the subtrahend.\n",
    "- \"Multiplication\" of a data array containing event data in bins with a data array with dense, histogrammed data.\n",
    "  The weight of each event is scaled by the value of the corresponding bin in the histogram.\n",
    "  Note that in contrast to the bin-centric operations the histogram may have a different (higher) resolution than the bin size of the binned event data.\n",
    "  This operation does not match based on the coords of the *bin* but instead considers the more precise coord values of the individual events, i.e., the operation is performances based on the meta data column in the underlying table.\n",
    "- \"Division\" of a data array containing event data in bins by a data array with dense, histogrammed data.\n",
    "  This is performed by scaling with the inverse of the denominator."
   ]
  },
  {
   "attachments": {},
   "cell_type": "markdown",
   "metadata": {},
   "source": [
    "<div class=\"alert alert-info\">\n",
    "    <b>Note:</b>\n",
    "\n",
    "These operations, in particular multiplication and division, are only interchangeable with histogramming if the variances of the \"histogram\" operand are negligible.\n",
    "If these variances are not negligible the operation on the event data would introduce correlations in the error bars of the individual events.\n",
    "Scipp has no way of tracking such correlations and therefore these operations raise [VariancesError](https://scipp.github.io/generated/classes/scipp.VariancesError.html) to avoid silent underestimation of uncertainties.\n",
    "See our publication [Systematic underestimation of uncertainties by widespread neutron-scattering data-reduction software](https://doi.org/10.3233/JNR-220049) for more background.\n",
    "    \n",
    "</div>"
   ]
  },
  {
   "cell_type": "markdown",
   "metadata": {},
   "source": [
    "### Addition"
   ]
  },
  {
   "cell_type": "code",
   "execution_count": null,
   "metadata": {},
   "outputs": [],
   "source": [
    "sc.show(a['x', 2].value)\n",
    "a.bins.concatenate(a, out=a)\n",
    "sc.show(a['x', 2].value)\n",
    "a.bins.sum().plot()"
   ]
  },
  {
   "cell_type": "markdown",
   "metadata": {},
   "source": [
    "### Subtraction"
   ]
  },
  {
   "cell_type": "code",
   "execution_count": null,
   "metadata": {},
   "outputs": [],
   "source": [
    "zero = a.copy()\n",
    "sc.show(zero['x', 2].value)\n",
    "zero.bins.concatenate(-zero, out=zero)\n",
    "sc.show(zero['x', 2].value)\n",
    "zero.bins.sum().plot()"
   ]
  },
  {
   "cell_type": "markdown",
   "metadata": {},
   "source": [
    "### Multiplication and division\n",
    "\n",
    "We prepare a histogram that will be used to scale the event weights:"
   ]
  },
  {
   "cell_type": "code",
   "execution_count": null,
   "metadata": {},
   "outputs": [],
   "source": [
    "time_bins = sc.array(dims=['time'], unit=sc.units.us, values=[0.0, 3.0, 6.0])\n",
    "weight = sc.array(dims=['time'], values=[10.0, 3.0])\n",
    "hist = sc.DataArray(data=weight, coords={'time': time_bins})\n",
    "hist"
   ]
  },
  {
   "cell_type": "markdown",
   "metadata": {},
   "source": [
    "The helper `sc.lookup` provides a wrapper for a discrete \"function\", given by a data array depending on a specified dimension.\n",
    "The binary arithmetic operators on the `bins` property support this function-like object:"
   ]
  },
  {
   "cell_type": "code",
   "execution_count": null,
   "metadata": {},
   "outputs": [],
   "source": [
    "a.bins /= sc.lookup(func=hist, dim='time')\n",
    "a.hist(time=time_bins).plot()"
   ]
  },
  {
   "cell_type": "markdown",
   "metadata": {},
   "source": [
    "As noted above, operations that would introduce correlations due to a broadcast raise an exception.\n",
    "In this case, using a histogram bin value with variances for multiple events in that bin triggers such an error:"
   ]
  },
  {
   "cell_type": "code",
   "execution_count": null,
   "metadata": {
    "tags": [
     "raises-exception"
    ]
   },
   "outputs": [],
   "source": [
    "weight = sc.array(dims=['time'], values=[10.0, 3.0], variances=[10.0, 3.0])\n",
    "hist = sc.DataArray(data=weight, coords={'time': time_bins})\n",
    "a.bins /= sc.lookup(func=hist, dim='time')"
   ]
  }
 ],
 "metadata": {
  "kernelspec": {
   "display_name": "Python 3 (ipykernel)",
   "language": "python",
   "name": "python3"
  },
  "language_info": {
   "codemirror_mode": {
    "name": "ipython",
    "version": 3
   },
   "file_extension": ".py",
   "mimetype": "text/x-python",
   "name": "python",
   "nbconvert_exporter": "python",
   "pygments_lexer": "ipython3"
  }
 },
 "nbformat": 4,
 "nbformat_minor": 4
}
