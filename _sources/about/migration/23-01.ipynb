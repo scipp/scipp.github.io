{
 "cells": [
  {
   "cell_type": "markdown",
   "id": "0",
   "metadata": {},
   "source": [
    "# Migrating to Scipp 23.01.0 "
   ]
  },
  {
   "cell_type": "markdown",
   "id": "1",
   "metadata": {},
   "source": [
    "## Overview\n",
    "\n",
    "Starting with Scipp 23.01.0, a `VariancesError` is raised when an operand with variances (statistical uncertianties) is implicitly or explicitly broadcast.\n",
    "This is a necessary bugfix, since Scipp is not capable of tracking correlations and would thus silently underestimate uncertainties."
   ]
  },
  {
   "cell_type": "markdown",
   "id": "2",
   "metadata": {
    "tags": []
   },
   "source": [
    "## What is affected?\n",
    "\n",
    "Any operation with a broadcast of an operand with variances is affected.\n",
    "This can happen for dense data as well as for binned data.\n",
    "We give two examples:"
   ]
  },
  {
   "cell_type": "code",
   "execution_count": null,
   "id": "3",
   "metadata": {},
   "outputs": [],
   "source": [
    "import scipp as sc\n",
    "\n",
    "var = sc.ones(dims=['x', 'y'], shape=(4, 3))\n",
    "norm = sc.array(\n",
    "    dims=['y'],\n",
    "    values=[0.1, 0.2, 0.3],\n",
    "    variances=[0.1, 0.2, 0.3],\n",
    ")"
   ]
  },
  {
   "cell_type": "markdown",
   "id": "4",
   "metadata": {},
   "source": [
    "An operation between `var` and `norm` will raise `VariancesError` since `norm` is broadcast into dimension `'x'`:"
   ]
  },
  {
   "cell_type": "code",
   "execution_count": null,
   "id": "5",
   "metadata": {
    "tags": [
     "raises-exception"
    ]
   },
   "outputs": [],
   "source": [
    "var / norm"
   ]
  },
  {
   "cell_type": "code",
   "execution_count": null,
   "id": "6",
   "metadata": {},
   "outputs": [],
   "source": [
    "binned = sc.data.table_xyz(100).bin(y=3)"
   ]
  },
  {
   "cell_type": "markdown",
   "id": "7",
   "metadata": {},
   "source": [
    "An operation between `binned` and `norm` will raise `VariancesError` since `norm` is broadcast to all bin elements:"
   ]
  },
  {
   "cell_type": "code",
   "execution_count": null,
   "id": "8",
   "metadata": {
    "tags": [
     "raises-exception"
    ]
   },
   "outputs": [],
   "source": [
    "binned / norm"
   ]
  },
  {
   "cell_type": "markdown",
   "id": "9",
   "metadata": {},
   "source": [
    "## Working around the new behavior\n",
    "\n",
    "Scipp will not be able to support an automatic approach for handling these cases correctly, since this would be either very costly or very problem-specific.\n",
    "An easy **but wrong** work around (equivalent to the old behavior in almost all cases) is to set the variances of the term being broadcast to `None`:"
   ]
  },
  {
   "cell_type": "code",
   "execution_count": null,
   "id": "10",
   "metadata": {},
   "outputs": [],
   "source": [
    "import logging\n",
    "\n",
    "stream_handler = logging.StreamHandler()\n",
    "logger = sc.get_logger()\n",
    "logger.addHandler(stream_handler)"
   ]
  },
  {
   "cell_type": "code",
   "execution_count": null,
   "id": "11",
   "metadata": {},
   "outputs": [],
   "source": [
    "logger.warning(\n",
    "    \"\"\"ATTENTION:\n",
    "    Statistical uncertainties of the normalization term were IGNORED.\n",
    "    This is probably incorrect.\"\"\"\n",
    ")\n",
    "norm.variances = None\n",
    "var / norm\n",
    "binned / norm"
   ]
  },
  {
   "cell_type": "markdown",
   "id": "12",
   "metadata": {},
   "source": [
    "We repeat that this is **incorrect**.\n",
    "We strongly recommend to issue an explicit warning to the user, as shown in the example."
   ]
  },
  {
   "cell_type": "markdown",
   "id": "13",
   "metadata": {},
   "source": [
    "## Fixing the problem\n",
    "\n",
    "For many applications there is no simple solution to this, as it may involve an intractably large correlation matrix.\n",
    "See our publication (preprint submitted to Journal of Neutron Science) for solutions in certain cases.\n",
    "\n",
    "We recommend to derive the actual expression for uncertainties of the entire calculation, using a first-order truncated Taylor expansion.\n",
    "In a number of our own applications it turned out that the final expression can be computed rather cheaply &mdash; without dealing with the intractably large intermediate correlation matrices.\n",
    "\n",
    "If this is not possible, approaches such as Bootstrapping may be used."
   ]
  }
 ],
 "metadata": {
  "kernelspec": {
   "display_name": "Python 3 (ipykernel)",
   "language": "python",
   "name": "python3"
  },
  "language_info": {
   "codemirror_mode": {
    "name": "ipython",
    "version": 3
   },
   "file_extension": ".py",
   "mimetype": "text/x-python",
   "name": "python",
   "nbconvert_exporter": "python",
   "pygments_lexer": "ipython3"
  }
 },
 "nbformat": 4,
 "nbformat_minor": 5
}
