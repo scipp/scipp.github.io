{
 "cells": [
  {
   "cell_type": "markdown",
   "id": "0",
   "metadata": {
    "tags": []
   },
   "source": [
    "# Ownership mechanism and readonly flags\n",
    "\n",
    "The Scipp data structures (variables, data arrays, and datasets) behave mostly like nested Python objects, i.e., sub-objects are shared by default.\n",
    "Some of the effects are exemplified in the following.\n",
    "\n",
    "## Shared ownership\n",
    "\n",
    "### Variables\n",
    "\n",
    "Slices or other views of variables are also of type `Variable` and all views share ownership of the underlying data.\n",
    "\n",
    "If a variable refers only to a section of the underlying data buffer this is indicated in the HTML view in the title line as part of the size (*\"x Bytes out of y Bytes\"*).\n",
    "This allows for identification of \"small\" variables that keep alive potentially large buffers:"
   ]
  },
  {
   "cell_type": "code",
   "execution_count": null,
   "id": "1",
   "metadata": {},
   "outputs": [],
   "source": [
    "import scipp as sc\n",
    "\n",
    "var = sc.arange(dim='x', unit='m', start=0, stop=12)\n",
    "var['x', 4:6]"
   ]
  },
  {
   "cell_type": "markdown",
   "id": "2",
   "metadata": {},
   "source": [
    "To create a variable with sole ownership of a buffer, use the `copy()` method:"
   ]
  },
  {
   "cell_type": "code",
   "execution_count": null,
   "id": "3",
   "metadata": {},
   "outputs": [],
   "source": [
    "var['x', 4:6].copy()"
   ]
  },
  {
   "cell_type": "markdown",
   "id": "4",
   "metadata": {},
   "source": [
    "By default, `copy()` returns a deep copy.\n",
    "Shallow copies can be made by specifying `deep=False`, which preserves shared ownership of underlying buffers:"
   ]
  },
  {
   "cell_type": "code",
   "execution_count": null,
   "id": "5",
   "metadata": {},
   "outputs": [],
   "source": [
    "shallow_copy = var['x', 4:6].copy(deep=False)\n",
    "shallow_copy"
   ]
  },
  {
   "cell_type": "markdown",
   "id": "6",
   "metadata": {},
   "source": [
    "### Data arrays\n",
    "\n",
    "As a result of the sharing mechanism, extra care must be taken in some cases, just like when working with any other Python library.\n",
    "Consider the following example, using the same variable as data and as a coordinate:"
   ]
  },
  {
   "cell_type": "code",
   "execution_count": null,
   "id": "7",
   "metadata": {},
   "outputs": [],
   "source": [
    "da = sc.DataArray(data=var, coords={'x': var})\n",
    "da += 666 * sc.units.m\n",
    "da"
   ]
  },
  {
   "cell_type": "markdown",
   "id": "8",
   "metadata": {},
   "source": [
    "The modification unintentionally also affected the coordinate.\n",
    "However, if we think of data arrays and coordinate dicts as Python-like objects, then the behavior should not be surprising.\n",
    "\n",
    "Note that the original `var` is also affected:"
   ]
  },
  {
   "cell_type": "code",
   "execution_count": null,
   "id": "9",
   "metadata": {},
   "outputs": [],
   "source": [
    "var"
   ]
  },
  {
   "cell_type": "markdown",
   "id": "10",
   "metadata": {},
   "source": [
    "To avoid this, use `copy()`, e.g.,:"
   ]
  },
  {
   "cell_type": "code",
   "execution_count": null,
   "id": "11",
   "metadata": {},
   "outputs": [],
   "source": [
    "da = sc.DataArray(data=var.copy(), coords={'x': var.copy()})\n",
    "da += 666 * sc.units.m\n",
    "da"
   ]
  },
  {
   "cell_type": "markdown",
   "id": "12",
   "metadata": {},
   "source": [
    "Apart from the standard and pythonic behavior, one advantage of this is that creating data arrays from variables is typically cheap, without inflicting copies of potentially large objects."
   ]
  },
  {
   "cell_type": "markdown",
   "id": "13",
   "metadata": {},
   "source": [
    "### Datasets\n",
    "\n",
    "Just like creating data arrays from variables is cheap (without deep-copies), inserting items into datasets does not inflict potentially expensive deep copies:"
   ]
  },
  {
   "cell_type": "code",
   "execution_count": null,
   "id": "14",
   "metadata": {
    "tags": []
   },
   "outputs": [],
   "source": [
    "ds = sc.Dataset({'a': da})  # shallow copy"
   ]
  },
  {
   "cell_type": "markdown",
   "id": "15",
   "metadata": {},
   "source": [
    "Note that while the buffers are shared, the meta-data dicts `coords` and `masks` are not.\n",
    "Compare:"
   ]
  },
  {
   "cell_type": "code",
   "execution_count": null,
   "id": "16",
   "metadata": {
    "tags": []
   },
   "outputs": [],
   "source": [
    "ds['a'].masks['m'] = da.coords['x'] < 670 * sc.Unit('m')\n",
    "'m' in da.masks  # the masks *dict* is copied"
   ]
  },
  {
   "cell_type": "markdown",
   "id": "17",
   "metadata": {},
   "source": [
    "with"
   ]
  },
  {
   "cell_type": "code",
   "execution_count": null,
   "id": "18",
   "metadata": {
    "tags": []
   },
   "outputs": [],
   "source": [
    "da.coords['x'] *= -1\n",
    "# the coords *dict* is copied,\n",
    "# but the 'x' coordinate references same buffer\n",
    "ds.coords['x']"
   ]
  },
  {
   "cell_type": "markdown",
   "id": "19",
   "metadata": {},
   "source": [
    "## Read-only flags\n",
    "\n",
    "Consider the following attempt to modify the data via a slice:"
   ]
  },
  {
   "cell_type": "code",
   "execution_count": null,
   "id": "20",
   "metadata": {
    "tags": []
   },
   "outputs": [],
   "source": [
    "try:\n",
    "    da['x', 0].data = var['x', 2]\n",
    "except sc.DataArrayError as e:\n",
    "    print(e)"
   ]
  },
  {
   "cell_type": "markdown",
   "id": "21",
   "metadata": {},
   "source": [
    "Since `da['x',0]` is itself a data array, assigning to the `data` property would repoint the data to whatever is given on the right-hand side.\n",
    "However, this would not affect `da`, and the attempt to change the data would silently do nothing, since the temporary `da['x',0]` disappears immediately.\n",
    "The read-only flag protects us from this.\n",
    "\n",
    "To actually modify the slice, use `__setitem__` instead:"
   ]
  },
  {
   "cell_type": "code",
   "execution_count": null,
   "id": "22",
   "metadata": {
    "tags": []
   },
   "outputs": [],
   "source": [
    "da['x', 0] = var['x', 2]"
   ]
  },
  {
   "cell_type": "markdown",
   "id": "23",
   "metadata": {},
   "source": [
    "Variables, meta-data dicts (`coords`, `masks`, and `attrs` properties), data arrays, and datasets also have read-only flags.\n",
    "The flags solve a number of conceptual issues and serve as a safeguard against hidden bugs.\n",
    "\n",
    "One example is a broadcast of a variable:"
   ]
  },
  {
   "cell_type": "code",
   "execution_count": null,
   "id": "24",
   "metadata": {
    "tags": []
   },
   "outputs": [],
   "source": [
    "var = sc.broadcast(sc.scalar(1.0), dims=['x'], shape=[10])\n",
    "try:\n",
    "    var += 7\n",
    "except sc.VariableError as e:\n",
    "    print(e)"
   ]
  },
  {
   "cell_type": "markdown",
   "id": "25",
   "metadata": {},
   "source": [
    "Since `broadcast` returns a view, the readon-only flag is set to avoid multiple additions to the same element."
   ]
  }
 ],
 "metadata": {
  "kernelspec": {
   "display_name": "Python 3 (ipykernel)",
   "language": "python",
   "name": "python3"
  },
  "language_info": {
   "codemirror_mode": {
    "name": "ipython",
    "version": 3
   },
   "file_extension": ".py",
   "mimetype": "text/x-python",
   "name": "python",
   "nbconvert_exporter": "python",
   "pygments_lexer": "ipython3"
  }
 },
 "nbformat": 4,
 "nbformat_minor": 5
}
