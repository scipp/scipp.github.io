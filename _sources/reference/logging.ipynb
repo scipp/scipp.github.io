{
 "cells": [
  {
   "cell_type": "markdown",
   "id": "0",
   "metadata": {
    "tags": []
   },
   "source": [
    "# Logging\n",
    "\n",
    "Scipp is generally quiet because it mostly provides low level components.\n",
    "It can however produce warnings and some functions (e.g. [scipp.transform_coords](../generated/functions/scipp.transform_coords.rst)) log at the info level.\n",
    "For this purpose, scipp defines a logger which allows customizing how those warnings and errors are reported.\n",
    "\n",
    "The logger is an instance of [logging.Logger](https://docs.python.org/3/library/logging.html#logging.Logger) with name 'scipp'.\n",
    "It has no handlers by default and needs to be configured using the [logging](https://docs.python.org/3/library/logging.html) module of the standard library."
   ]
  },
  {
   "cell_type": "code",
   "execution_count": null,
   "id": "1",
   "metadata": {},
   "outputs": [],
   "source": [
    "import scipp as sc\n",
    "\n",
    "logger = sc.get_logger()"
   ]
  },
  {
   "cell_type": "markdown",
   "id": "2",
   "metadata": {},
   "source": [
    "You can silence Scipp's info messages if they get in your way using"
   ]
  },
  {
   "cell_type": "code",
   "execution_count": null,
   "id": "3",
   "metadata": {},
   "outputs": [],
   "source": [
    "logger.setLevel('WARNING')"
   ]
  },
  {
   "cell_type": "markdown",
   "id": "4",
   "metadata": {},
   "source": [
    "For illustration purposes, install a basic [logging.StreamHandler](https://docs.python.org/3/library/logging.handlers.html#logging.StreamHandler) and enable logging of info messages:"
   ]
  },
  {
   "cell_type": "code",
   "execution_count": null,
   "id": "5",
   "metadata": {},
   "outputs": [],
   "source": [
    "import logging\n",
    "\n",
    "stream_handler = logging.StreamHandler()\n",
    "stream_handler.setLevel(logging.INFO)\n",
    "logger.addHandler(stream_handler)\n",
    "logger.setLevel(logging.INFO)"
   ]
  },
  {
   "cell_type": "code",
   "execution_count": null,
   "id": "6",
   "metadata": {},
   "outputs": [],
   "source": [
    "logger.info('The stream handler simply prints messages')"
   ]
  },
  {
   "cell_type": "markdown",
   "id": "7",
   "metadata": {},
   "source": [
    "## Jupyter Log Widget\n",
    "\n",
    "When running in Jupyter notebooks, [scipp.logging](../generated/modules/scipp.logging.rst) provides a special handler which sends messages to a widget.\n",
    "It can be added like any other handler.\n",
    "Once Scipp's logger has a [WidgetHandler](../generated/modules/scipp.logging.WidgetHandler.rst), [scipp.display_logs](../generated/modules/scipp.logging.display_logs.rst) can be used to render its widget in a notebook."
   ]
  },
  {
   "cell_type": "code",
   "execution_count": null,
   "id": "8",
   "metadata": {},
   "outputs": [],
   "source": [
    "# This only works in a Jupyter notebook.\n",
    "logger.addHandler(sc.logging.make_widget_handler())"
   ]
  },
  {
   "cell_type": "code",
   "execution_count": null,
   "id": "9",
   "metadata": {},
   "outputs": [],
   "source": [
    "sc.display_logs()"
   ]
  },
  {
   "cell_type": "markdown",
   "id": "10",
   "metadata": {},
   "source": [
    "(Click and drag the bottom right corner to increase the size of the widget if it is too small.)"
   ]
  },
  {
   "cell_type": "code",
   "execution_count": null,
   "id": "11",
   "metadata": {},
   "outputs": [],
   "source": [
    "logger.info('This shows up in the widget and error stream.')"
   ]
  },
  {
   "cell_type": "markdown",
   "id": "12",
   "metadata": {},
   "source": [
    "[scipp.logging](../generated/modules/scipp.logging.rst) provides a number of high level convenience functions for managing log widgets and handlers.\n",
    "See the module documentation for more details.\n",
    "\n",
    "<div class=\"alert alert-info\">\n",
    "\n",
    "TIP\n",
    "\n",
    "In Jupyter lab, you can show the widget in a separate tab and keep it visible.\n",
    "To do so, right-click the widget and select 'Create New View for Output'.\n",
    "</div>\n",
    "\n",
    "\n",
    "## Formatting Scipp Objects\n",
    "\n",
    "The widget can display the HTML representation of Scipp containers (`Variable`, `DataArray`, `Dataset`):"
   ]
  },
  {
   "cell_type": "code",
   "execution_count": null,
   "id": "13",
   "metadata": {
    "jupyter": {
     "outputs_hidden": false
    }
   },
   "outputs": [],
   "source": [
    "logger.info(sc.arange('x', 0, 5))"
   ]
  },
  {
   "cell_type": "markdown",
   "id": "14",
   "metadata": {},
   "source": [
    "It is also possible to embed Scipp containers in strings using `%`-formatting:"
   ]
  },
  {
   "cell_type": "code",
   "execution_count": null,
   "id": "15",
   "metadata": {
    "jupyter": {
     "outputs_hidden": false
    }
   },
   "outputs": [],
   "source": [
    "logger.info('The HTML representation of a Variable: %s', sc.arange('h', 10, 15))"
   ]
  },
  {
   "cell_type": "markdown",
   "id": "16",
   "metadata": {},
   "source": [
    "Or use `%r` to display a plain string representation:"
   ]
  },
  {
   "cell_type": "code",
   "execution_count": null,
   "id": "17",
   "metadata": {},
   "outputs": [],
   "source": [
    "logger.info('A Variable converted to string: %r', sc.arange('r', 100, 105))"
   ]
  },
  {
   "cell_type": "markdown",
   "id": "18",
   "metadata": {},
   "source": [
    "Our `stream_handler` and other handlers behave as normal and produce the string representation of Scipp objects unless endowed with a custom formatter."
   ]
  }
 ],
 "metadata": {
  "kernelspec": {
   "display_name": "Python 3 (ipykernel)",
   "language": "python",
   "name": "python3"
  },
  "language_info": {
   "codemirror_mode": {
    "name": "ipython",
    "version": 3
   },
   "file_extension": ".py",
   "mimetype": "text/x-python",
   "name": "python",
   "nbconvert_exporter": "python",
   "pygments_lexer": "ipython3"
  }
 },
 "nbformat": 4,
 "nbformat_minor": 5
}
